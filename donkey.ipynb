{
 "cells": [
  {
   "cell_type": "markdown",
   "metadata": {},
   "source": [
    "# INSTRUCTIONS\n",
    "\n",
    "1. please copy the code below and append it on the code provided in the CSA Academy\n",
    "2. Link to the challenge here: https://csacademy.com/contest/interview-archive/task/donkey-paradox/statement/\n",
    "3. Link to the slides here: https://the-donkey-paradox-a-gri-d2nknew.gamma.site/"
   ]
  },
  {
   "cell_type": "markdown",
   "metadata": {},
   "source": [
    "## STARTER CODE:\n",
    "\n",
    "This piece of code is meant to help you get the inputs required for you to solve the challenge\n"
   ]
  },
  {
   "cell_type": "code",
   "execution_count": null,
   "metadata": {
    "vscode": {
     "languageId": "plaintext"
    }
   },
   "outputs": [],
   "source": [
    "N = get_number()\n",
    "M = get_number()\n",
    "# M = get_number()\n",
    "    \n",
    "# Read and parse the first haystack coordinates into a tuple\n",
    "haystack1 = (get_number() - 1, get_number() - 1)  # Convert to 0-based index\n",
    "\n",
    "# Read and parse the second haystack coordinates into a tuple\n",
    "haystack2 = (get_number() - 1, get_number() - 1)  # Convert to 0-based index\n"
   ]
  },
  {
   "cell_type": "markdown",
   "metadata": {},
   "source": [
    "## COMPLETE SOLUTION\n",
    "\n",
    "This is my implementation of the challenge, I hope the comments left therein are helpful"
   ]
  },
  {
   "cell_type": "code",
   "execution_count": null,
   "metadata": {
    "vscode": {
     "languageId": "plaintext"
    }
   },
   "outputs": [],
   "source": [
    "def count_donkey_starvation_cells(N, M, haystack1, haystack2):\n",
    "    # N X M = our matrix - grid\n",
    "    # Extract haystack position\n",
    "    hx1, hy1 = haystack1\n",
    "    hx2, hy2 = haystack2\n",
    "\n",
    "    # Counter for starvation cells - what is our end goal? return the total number of cells where our donkey will starve\n",
    "    starvation_count = 0\n",
    "\n",
    "    # Iterate over all cells in the matrix\n",
    "    for i in range(N):\n",
    "        for j in range(M):\n",
    "            # Calculate Manhattan distance to both haystacks\n",
    "            # Why Manhattan?  - remember the donkey can only go two ways? Horizontal & vertical?\n",
    "            dist1 = abs(i - hx1) + abs(j - hy1)\n",
    "            dist2 = abs(i - hx2) + abs(j - hy2)\n",
    "\n",
    "            # If distances are equal, this is a starvation cell : This is really what we care about\n",
    "            if dist1 == dist2:\n",
    "                starvation_count += 1\n",
    "\n",
    "    # Output the result\n",
    "    return starvation_count\n",
    "\n",
    "\n",
    "N = get_number()\n",
    "M = get_number()\n",
    "# M = get_number()\n",
    "    \n",
    "# Read and parse the first haystack coordinates into a tuple\n",
    "haystack1 = (get_number() - 1, get_number() - 1)  # Convert to 0-based index\n",
    "\n",
    "# Read and parse the second haystack coordinates into a tuple\n",
    "haystack2 = (get_number() - 1, get_number() - 1)  # Convert to 0-based index\n",
    "\n",
    "\n",
    "\n",
    "# Get the result = I want you to implement the count_donkey_starvation_cells\n",
    "result = count_donkey_starvation_cells(N, M, haystack1, haystack2)\n",
    "\n",
    "# Print the number of starvation cells\n",
    "print(result)\n"
   ]
  }
 ],
 "metadata": {
  "language_info": {
   "name": "python"
  }
 },
 "nbformat": 4,
 "nbformat_minor": 2
}
